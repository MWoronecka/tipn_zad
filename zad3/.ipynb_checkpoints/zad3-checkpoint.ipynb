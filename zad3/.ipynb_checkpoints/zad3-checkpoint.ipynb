{
 "cells": [
  {
   "cell_type": "markdown",
   "metadata": {},
   "source": [
    "## Super programik\n",
    "\n",
    "Prohgram będzie liczył **średnią** ze wszystkich przedmiotów w tym semstrze studiów."
   ]
  },
  {
   "cell_type": "code",
   "execution_count": 9,
   "metadata": {},
   "outputs": [],
   "source": [
    "przegląd = 5.0\n",
    "meto_wykład = 4.0\n",
    "metodologia = 4.0\n",
    "psych_ćw = 3.5\n",
    "psych_ogólna = 4.5\n",
    "tr_inter = 5.0\n",
    "kom_inter = 4.5\n",
    "wf = 5.0\n",
    "filozofia = 3.0\n",
    "logika = 4.0\n",
    "anatomia = 3.5"
   ]
  },
  {
   "cell_type": "code",
   "execution_count": 10,
   "metadata": {},
   "outputs": [],
   "source": [
    "suma = przegląd + meto_wykład + metodologia + psych_ćw + psych_ogólna + tr_inter + kom_inter + wf + filozofia + logika + anatomia"
   ]
  },
  {
   "cell_type": "code",
   "execution_count": 11,
   "metadata": {},
   "outputs": [
    {
     "data": {
      "text/plain": [
       "4.181818181818182"
      ]
     },
     "execution_count": 11,
     "metadata": {},
     "output_type": "execute_result"
    }
   ],
   "source": [
    "suma / 11"
   ]
  },
  {
   "cell_type": "code",
   "execution_count": 12,
   "metadata": {},
   "outputs": [],
   "source": [
    "srednia = 4.181818181818182"
   ]
  },
  {
   "cell_type": "code",
   "execution_count": 16,
   "metadata": {},
   "outputs": [
    {
     "name": "stdout",
     "output_type": "stream",
     "text": [
      "Moja średnia w pierwszym semestrze studiów to 4.181818181818182\n"
     ]
    }
   ],
   "source": [
    "print(\"Moja średnia w pierwszym semestrze studiów to \" + str(srednia))"
   ]
  },
  {
   "cell_type": "code",
   "execution_count": null,
   "metadata": {},
   "outputs": [],
   "source": []
  }
 ],
 "metadata": {
  "kernelspec": {
   "display_name": "Python 3",
   "language": "python",
   "name": "python3"
  },
  "language_info": {
   "codemirror_mode": {
    "name": "ipython",
    "version": 3
   },
   "file_extension": ".py",
   "mimetype": "text/x-python",
   "name": "python",
   "nbconvert_exporter": "python",
   "pygments_lexer": "ipython3",
   "version": "3.7.0"
  }
 },
 "nbformat": 4,
 "nbformat_minor": 2
}
