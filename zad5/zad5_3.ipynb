{
 "cells": [
  {
   "cell_type": "code",
   "execution_count": 4,
   "metadata": {},
   "outputs": [
    {
     "name": "stdin",
     "output_type": "stream",
     "text": [
      "Podaj zdanie:  Pogoda za oknem jest paskudna, mogłoby być już lato.\n"
     ]
    },
    {
     "name": "stdout",
     "output_type": "stream",
     "text": [
      "Liczba słów: 9\n"
     ]
    }
   ],
   "source": [
    "zdanie = input('Podaj zdanie: ')\n",
    "\n",
    "liczba_slow = 1\n",
    "\n",
    "for i in zdanie:\n",
    "    if i == ' ':\n",
    "        liczba_slow += 1\n",
    "    \n",
    "print('Liczba słów:', liczba_slow)"
   ]
  }
 ],
 "metadata": {
  "kernelspec": {
   "display_name": "Python 3",
   "language": "python",
   "name": "python3"
  },
  "language_info": {
   "codemirror_mode": {
    "name": "ipython",
    "version": 3
   },
   "file_extension": ".py",
   "mimetype": "text/x-python",
   "name": "python",
   "nbconvert_exporter": "python",
   "pygments_lexer": "ipython3",
   "version": "3.7.0"
  }
 },
 "nbformat": 4,
 "nbformat_minor": 2
}
