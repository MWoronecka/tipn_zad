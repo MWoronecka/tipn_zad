{
 "cells": [
  {
   "cell_type": "code",
   "execution_count": 3,
   "metadata": {},
   "outputs": [],
   "source": [
    "a = 'Czy zgadzasz się, że śmierć Mufasy w bajce Król Lew to najsmutniejsza rzecz we wszechświecie?'\n",
    "b = 'Czy zgadzasz się, że w filmie Titanic Rose mogła posunąć się na tej szafie i zrobić Jackowi miejsce, ratując mu tym życie?'\n",
    "c = 'Czy zgadzasz się, że lepiej wypuścić pająka na balkon, niż potraktować go kapciem?'\n",
    "d = 'Czy zgadzasz się, że warto nakarmić głodnego studenta, choćby po to, żeby mieć czyste sumienie?'\n",
    "e = 'Czy zgadzasz się, że nawet Izabela Łęcka zasługuje na odrobinę symaptii?'\n",
    "\n",
    "punkty = []"
   ]
  },
  {
   "cell_type": "code",
   "execution_count": 4,
   "metadata": {},
   "outputs": [],
   "source": [
    "def test(osob):\n",
    "    lista_pytan = [a, b, c, d, e]\n",
    "    \n",
    "def zadaj_pyt(a):\n",
    "    print(a)\n",
    "    ax = input(\"1 oznacza zupełnie się nie zgadzam, a 5 oznacza całkowicie się zgadzam:\")\n",
    "    ax = int(ax)\n",
    "    if ax>5 or ax<1:\n",
    "        print(\"Wpisałaś/eś złą liczbę! Proszę, zacznij od początku!\")\n",
    "    else:\n",
    "        return ax"
   ]
  },
  {
   "cell_type": "code",
   "execution_count": 10,
   "metadata": {},
   "outputs": [
    {
     "name": "stdout",
     "output_type": "stream",
     "text": [
      "Czy zgadzasz się, że śmierć Mufasy w bajce Król Lew to najsmutniejsza rzecz we wszechświecie?\n"
     ]
    },
    {
     "name": "stdin",
     "output_type": "stream",
     "text": [
      "1 oznacza zupełnie się nie zgadzam, a 5 oznacza całkowicie się zgadzam: 5\n"
     ]
    },
    {
     "name": "stdout",
     "output_type": "stream",
     "text": [
      "Czy zgadzasz się, że w filmie Titanic Rose mogła posunąć się na tej szafie i zrobić Jackowi miejsce, ratując mu tym życie?\n"
     ]
    },
    {
     "name": "stdin",
     "output_type": "stream",
     "text": [
      "1 oznacza zupełnie się nie zgadzam, a 5 oznacza całkowicie się zgadzam: 5\n"
     ]
    },
    {
     "name": "stdout",
     "output_type": "stream",
     "text": [
      "Czy zgadzasz się, że lepiej wypuścić pająka na balkon, niż potraktować go kapciem?\n"
     ]
    },
    {
     "name": "stdin",
     "output_type": "stream",
     "text": [
      "1 oznacza zupełnie się nie zgadzam, a 5 oznacza całkowicie się zgadzam: 5\n"
     ]
    },
    {
     "name": "stdout",
     "output_type": "stream",
     "text": [
      "Czy zgadzasz się, że warto nakarmić głodnego studenta, choćby po to, żeby mieć czyste sumienie?\n"
     ]
    },
    {
     "name": "stdin",
     "output_type": "stream",
     "text": [
      "1 oznacza zupełnie się nie zgadzam, a 5 oznacza całkowicie się zgadzam: 5\n"
     ]
    },
    {
     "name": "stdout",
     "output_type": "stream",
     "text": [
      "Czy zgadzasz się, że nawet Izabela Łęcka zasługuje na odrobinę symaptii?\n"
     ]
    },
    {
     "name": "stdin",
     "output_type": "stream",
     "text": [
      "1 oznacza zupełnie się nie zgadzam, a 5 oznacza całkowicie się zgadzam: 1\n"
     ]
    },
    {
     "name": "stdout",
     "output_type": "stream",
     "text": [
      "Twój wynik to 21 . Jesteś empatyczną i wrażliwą osobą! W dziejszych czasach ze świecą takich szukać!\n"
     ]
    }
   ],
   "source": [
    "pkt = zadaj_pyt(a)\n",
    "punkty.append(pkt)\n",
    "pkt = zadaj_pyt(b)\n",
    "punkty.append(pkt)\n",
    "pkt = zadaj_pyt(c)\n",
    "punkty.append(pkt)\n",
    "pkt = zadaj_pyt(d)\n",
    "punkty.append(pkt)\n",
    "pkt = zadaj_pyt(e)\n",
    "punkty.append(pkt)\n",
    "wynik = sum(punkty)\n",
    "wynik = int(wynik)\n",
    "\n",
    "if wynik == 5:\n",
    "    print(\"Twój wynik to\", wynik, \".\", \"Jesteś nieczułą istotą prosto z piekła! Twoje miejsce jest wśród psychopatów!\")\n",
    "elif wynik > 5 and wynik < 10:\n",
    "    print(\"Twój wynik to\", wynik, \".\", \"Jeśli spotkamy się na ulicy, omijaj mnie szerokim łukiem. Błagam...\")\n",
    "elif wynik >= 10 and wynik < 15:\n",
    "    print(\"Twój wynik to\", wynik, \".\", \"Ze słowem LITOŚĆ spotkałeś/aś się chyba tylko w słowniku, ale jest jeszcze dla ciebie nadzieja.\")\n",
    "elif wynik >= 15 and wynik < 20:\n",
    "    print(\"Twój wynik to\", wynik, \".\", \"Możesz być dumny/a, masz w sobie duszę i odrobinę empatii!\")\n",
    "elif wynik >=20 and wynik < 25:\n",
    "    print(\"Twój wynik to\", wynik, \".\", \"Jesteś empatyczną i wrażliwą osobą! W dziejszych czasach ze świecą takich szukać!\")\n",
    "elif wynik == 25:\n",
    "    print(\"Twój wynik to\", wynik, \".\", \"Jesteś gatunkiem zagrożonym. Twój poziom wrażliwości i empatii są niespotykane! Gratulacje!\")\n",
    "    \n",
    "if wynik > 0:\n",
    "    punkty.pop(0)\n",
    "    punkty.pop(0)\n",
    "    punkty.pop(0)\n",
    "    punkty.pop(0)\n",
    "    punkty.pop(0)\n",
    "else:\n",
    "    print(\"Dziękuję za wykonanie testu! Oby do następnego!\")"
   ]
  },
  {
   "cell_type": "code",
   "execution_count": null,
   "metadata": {},
   "outputs": [],
   "source": []
  }
 ],
 "metadata": {
  "kernelspec": {
   "display_name": "Python 3",
   "language": "python",
   "name": "python3"
  },
  "language_info": {
   "codemirror_mode": {
    "name": "ipython",
    "version": 3
   },
   "file_extension": ".py",
   "mimetype": "text/x-python",
   "name": "python",
   "nbconvert_exporter": "python",
   "pygments_lexer": "ipython3",
   "version": "3.7.0"
  }
 },
 "nbformat": 4,
 "nbformat_minor": 2
}
